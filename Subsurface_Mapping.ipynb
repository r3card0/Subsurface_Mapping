{
 "cells": [
  {
   "cell_type": "markdown",
   "source": "# Subsurface Mapping using Python",
   "metadata": {
    "cell_id": "1380b2a1-1451-4b38-b7fe-738d0b4c8731",
    "deepnote_cell_type": "markdown"
   }
  },
  {
   "cell_type": "code",
   "metadata": {
    "cell_id": "00001-978b65ce-0c36-463c-88e6-0a9fe655af22",
    "deepnote_to_be_reexecuted": false,
    "source_hash": "f8adfdf5",
    "execution_start": 1646017273409,
    "execution_millis": 2531,
    "deepnote_cell_type": "code"
   },
   "source": "# import libraries\nimport pandas as pd\nimport numpy as np\nfrom matplotlib import pyplot as plt \nimport plotly.graph_objects as go",
   "execution_count": 1,
   "outputs": []
  },
  {
   "cell_type": "code",
   "metadata": {
    "cell_id": "00002-6a60d83c-5a60-4cce-899a-2c8e683e1d76",
    "deepnote_to_be_reexecuted": false,
    "source_hash": "387bfd8",
    "execution_start": 1646017275947,
    "execution_millis": 699,
    "deepnote_cell_type": "code"
   },
   "source": "# read the file\ndf = pd.read_csv('/work/DIG_2021_0016_Bedrock.csv')\ndf.head()",
   "execution_count": 2,
   "outputs": [
    {
     "output_type": "execute_result",
     "execution_count": 2,
     "data": {
      "application/vnd.deepnote.dataframe.v3+json": {
       "column_count": 11,
       "row_count": 5,
       "columns": [
        {
         "name": " Loc_ID ",
         "dtype": "object",
         "stats": {
          "unique_count": 5,
          "nan_count": 0,
          "categories": [
           {
            "name": "100160607211W400",
            "count": 1
           },
           {
            "name": "100160907713W400",
            "count": 1
           },
           {
            "name": "3 others",
            "count": 3
           }
          ]
         }
        },
        {
         "name": "E_10TM83",
         "dtype": "float64",
         "stats": {
          "unique_count": 5,
          "nan_count": 0,
          "min": "659833.16",
          "max": "711243.82",
          "histogram": [
           {
            "bin_start": 659833.16,
            "bin_end": 664974.226,
            "count": 3
           },
           {
            "bin_start": 664974.226,
            "bin_end": 670115.292,
            "count": 0
           },
           {
            "bin_start": 670115.292,
            "bin_end": 675256.358,
            "count": 0
           },
           {
            "bin_start": 675256.358,
            "bin_end": 680397.424,
            "count": 0
           },
           {
            "bin_start": 680397.424,
            "bin_end": 685538.49,
            "count": 0
           },
           {
            "bin_start": 685538.49,
            "bin_end": 690679.556,
            "count": 0
           },
           {
            "bin_start": 690679.556,
            "bin_end": 695820.622,
            "count": 1
           },
           {
            "bin_start": 695820.622,
            "bin_end": 700961.688,
            "count": 0
           },
           {
            "bin_start": 700961.688,
            "bin_end": 706102.754,
            "count": 0
           },
           {
            "bin_start": 706102.754,
            "bin_end": 711243.82,
            "count": 1
           }
          ]
         }
        },
        {
         "name": "N_10TM83",
         "dtype": "float64",
         "stats": {
          "unique_count": 5,
          "nan_count": 0,
          "min": "6120896.3",
          "max": "6269089.08",
          "histogram": [
           {
            "bin_start": 6120896.3,
            "bin_end": 6135715.578,
            "count": 1
           },
           {
            "bin_start": 6135715.578,
            "bin_end": 6150534.856,
            "count": 0
           },
           {
            "bin_start": 6150534.856,
            "bin_end": 6165354.134,
            "count": 0
           },
           {
            "bin_start": 6165354.134,
            "bin_end": 6180173.412,
            "count": 1
           },
           {
            "bin_start": 6180173.412,
            "bin_end": 6194992.6899999995,
            "count": 0
           },
           {
            "bin_start": 6194992.6899999995,
            "bin_end": 6209811.968,
            "count": 0
           },
           {
            "bin_start": 6209811.968,
            "bin_end": 6224631.246,
            "count": 0
           },
           {
            "bin_start": 6224631.246,
            "bin_end": 6239450.524,
            "count": 0
           },
           {
            "bin_start": 6239450.524,
            "bin_end": 6254269.802,
            "count": 0
           },
           {
            "bin_start": 6254269.802,
            "bin_end": 6269089.08,
            "count": 3
           }
          ]
         }
        },
        {
         "name": " Geol_name ",
         "dtype": "object",
         "stats": {
          "unique_count": 1,
          "nan_count": 0,
          "categories": [
           {
            "name": " Bedrock  top ",
            "count": 5
           }
          ]
         }
        },
        {
         "name": "KB_masl28",
         "dtype": "float64",
         "stats": {
          "unique_count": 3,
          "nan_count": 0,
          "min": "-9999.0",
          "max": "679.8",
          "histogram": [
           {
            "bin_start": -9999,
            "bin_end": -8931.12,
            "count": 3
           },
           {
            "bin_start": -8931.12,
            "bin_end": -7863.24,
            "count": 0
           },
           {
            "bin_start": -7863.24,
            "bin_end": -6795.360000000001,
            "count": 0
           },
           {
            "bin_start": -6795.360000000001,
            "bin_end": -5727.4800000000005,
            "count": 0
           },
           {
            "bin_start": -5727.4800000000005,
            "bin_end": -4659.6,
            "count": 0
           },
           {
            "bin_start": -4659.6,
            "bin_end": -3591.720000000001,
            "count": 0
           },
           {
            "bin_start": -3591.720000000001,
            "bin_end": -2523.840000000001,
            "count": 0
           },
           {
            "bin_start": -2523.840000000001,
            "bin_end": -1455.960000000001,
            "count": 0
           },
           {
            "bin_start": -1455.960000000001,
            "bin_end": -388.08000000000175,
            "count": 0
           },
           {
            "bin_start": -388.08000000000175,
            "bin_end": 679.8,
            "count": 2
           }
          ]
         }
        },
        {
         "name": "Gd_el_m28",
         "dtype": "float64",
         "stats": {
          "unique_count": 5,
          "nan_count": 0,
          "min": "382.0",
          "max": "676.5",
          "histogram": [
           {
            "bin_start": 382,
            "bin_end": 411.45,
            "count": 2
           },
           {
            "bin_start": 411.45,
            "bin_end": 440.9,
            "count": 0
           },
           {
            "bin_start": 440.9,
            "bin_end": 470.35,
            "count": 1
           },
           {
            "bin_start": 470.35,
            "bin_end": 499.8,
            "count": 0
           },
           {
            "bin_start": 499.8,
            "bin_end": 529.25,
            "count": 0
           },
           {
            "bin_start": 529.25,
            "bin_end": 558.7,
            "count": 0
           },
           {
            "bin_start": 558.7,
            "bin_end": 588.15,
            "count": 0
           },
           {
            "bin_start": 588.15,
            "bin_end": 617.6,
            "count": 0
           },
           {
            "bin_start": 617.6,
            "bin_end": 647.05,
            "count": 1
           },
           {
            "bin_start": 647.05,
            "bin_end": 676.5,
            "count": 1
           }
          ]
         }
        },
        {
         "name": " Gd_el_src ",
         "dtype": "object",
         "stats": {
          "unique_count": 2,
          "nan_count": 0,
          "categories": [
           {
            "name": " Environment  and  Sustainable  Development  DEM ",
            "count": 3
           },
           {
            "name": " Original  from  well  log ",
            "count": 2
           }
          ]
         }
        },
        {
         "name": "El_masl28",
         "dtype": "float64",
         "stats": {
          "unique_count": 5,
          "nan_count": 0,
          "min": "387.9",
          "max": "495.8",
          "histogram": [
           {
            "bin_start": 387.9,
            "bin_end": 398.69,
            "count": 1
           },
           {
            "bin_start": 398.69,
            "bin_end": 409.47999999999996,
            "count": 0
           },
           {
            "bin_start": 409.47999999999996,
            "bin_end": 420.27,
            "count": 1
           },
           {
            "bin_start": 420.27,
            "bin_end": 431.06,
            "count": 0
           },
           {
            "bin_start": 431.06,
            "bin_end": 441.85,
            "count": 0
           },
           {
            "bin_start": 441.85,
            "bin_end": 452.64,
            "count": 2
           },
           {
            "bin_start": 452.64,
            "bin_end": 463.43,
            "count": 0
           },
           {
            "bin_start": 463.43,
            "bin_end": 474.22,
            "count": 0
           },
           {
            "bin_start": 474.22,
            "bin_end": 485.01,
            "count": 0
           },
           {
            "bin_start": 485.01,
            "bin_end": 495.8,
            "count": 1
           }
          ]
         }
        },
        {
         "name": " Data_src ",
         "dtype": "object",
         "stats": {
          "unique_count": 2,
          "nan_count": 0,
          "categories": [
           {
            "name": " Outcrop;  interpreted  from  satellite  imagery;  internal  AGS  data ",
            "count": 3
           },
           {
            "name": " Oil  &  gas  well  log ",
            "count": 2
           }
          ]
         }
        },
        {
         "name": " MD_m ",
         "dtype": "float64",
         "stats": {
          "unique_count": 3,
          "nan_count": 0,
          "min": "0.0",
          "max": "234.2",
          "histogram": [
           {
            "bin_start": 0,
            "bin_end": 23.419999999999998,
            "count": 3
           },
           {
            "bin_start": 23.419999999999998,
            "bin_end": 46.839999999999996,
            "count": 0
           },
           {
            "bin_start": 46.839999999999996,
            "bin_end": 70.25999999999999,
            "count": 0
           },
           {
            "bin_start": 70.25999999999999,
            "bin_end": 93.67999999999999,
            "count": 0
           },
           {
            "bin_start": 93.67999999999999,
            "bin_end": 117.1,
            "count": 0
           },
           {
            "bin_start": 117.1,
            "bin_end": 140.51999999999998,
            "count": 0
           },
           {
            "bin_start": 140.51999999999998,
            "bin_end": 163.94,
            "count": 1
           },
           {
            "bin_start": 163.94,
            "bin_end": 187.35999999999999,
            "count": 0
           },
           {
            "bin_start": 187.35999999999999,
            "bin_end": 210.77999999999997,
            "count": 0
           },
           {
            "bin_start": 210.77999999999997,
            "bin_end": 234.2,
            "count": 1
           }
          ]
         }
        },
        {
         "name": " Publisher ",
         "dtype": "object",
         "stats": {
          "unique_count": 1,
          "nan_count": 0,
          "categories": [
           {
            "name": "   Alberta    Geological    Survey   ",
            "count": 5
           }
          ]
         }
        },
        {
         "name": "_deepnote_index_column",
         "dtype": "int64"
        }
       ],
       "rows": [
        {
         " Loc_ID ": "100160607211W400",
         "E_10TM83": 711243.82,
         "N_10TM83": 6120896.3,
         " Geol_name ": " Bedrock  top ",
         "KB_masl28": 644.8,
         "Gd_el_m28": 641.3,
         " Gd_el_src ": " Original  from  well  log ",
         "El_masl28": 495.8,
         " Data_src ": " Oil  &  gas  well  log ",
         " MD_m ": 145.5,
         " Publisher ": "   Alberta    Geological    Survey   ",
         "_deepnote_index_column": 0
        },
        {
         " Loc_ID ": "100160907713W400",
         "E_10TM83": 691910.46,
         "N_10TM83": 6170207.23,
         " Geol_name ": " Bedrock  top ",
         "KB_masl28": 679.8,
         "Gd_el_m28": 676.5,
         " Gd_el_src ": " Original  from  well  log ",
         "El_masl28": 442.3,
         " Data_src ": " Oil  &  gas  well  log ",
         " MD_m ": 234.2,
         " Publisher ": "   Alberta    Geological    Survey   ",
         "_deepnote_index_column": 1
        },
        {
         " Loc_ID ": "GJP_interpretative_points_471",
         "E_10TM83": 659833.16,
         "N_10TM83": 6269089.08,
         " Geol_name ": " Bedrock  top ",
         "KB_masl28": -9999,
         "Gd_el_m28": 386.1,
         " Gd_el_src ": " Environment  and  Sustainable  Development  DEM ",
         "El_masl28": 412.6,
         " Data_src ": " Outcrop;  interpreted  from  satellite  imagery;  internal  AGS  data ",
         " MD_m ": 0,
         " Publisher ": "   Alberta    Geological    Survey   ",
         "_deepnote_index_column": 2
        },
        {
         " Loc_ID ": "GJP_interpretative_points_473",
         "E_10TM83": 661498.18,
         "N_10TM83": 6266773.91,
         " Geol_name ": " Bedrock  top ",
         "KB_masl28": -9999,
         "Gd_el_m28": 382,
         " Gd_el_src ": " Environment  and  Sustainable  Development  DEM ",
         "El_masl28": 387.9,
         " Data_src ": " Outcrop;  interpreted  from  satellite  imagery;  internal  AGS  data ",
         " MD_m ": 0,
         " Publisher ": "   Alberta    Geological    Survey   ",
         "_deepnote_index_column": 3
        },
        {
         " Loc_ID ": "GJP_interpretative_points_474",
         "E_10TM83": 660354.47,
         "N_10TM83": 6266310.47,
         " Geol_name ": " Bedrock  top ",
         "KB_masl28": -9999,
         "Gd_el_m28": 445,
         " Gd_el_src ": " Environment  and  Sustainable  Development  DEM ",
         "El_masl28": 451.7,
         " Data_src ": " Outcrop;  interpreted  from  satellite  imagery;  internal  AGS  data ",
         " MD_m ": 0,
         " Publisher ": "   Alberta    Geological    Survey   ",
         "_deepnote_index_column": 4
        }
       ]
      },
      "text/plain": "                         Loc_ID    E_10TM83    N_10TM83      Geol_name   \\\n0               100160607211W400  711243.82  6120896.30   Bedrock  top    \n1               100160907713W400  691910.46  6170207.23   Bedrock  top    \n2  GJP_interpretative_points_471  659833.16  6269089.08   Bedrock  top    \n3  GJP_interpretative_points_473  661498.18  6266773.91   Bedrock  top    \n4  GJP_interpretative_points_474  660354.47  6266310.47   Bedrock  top    \n\n   KB_masl28  Gd_el_m28                                         Gd_el_src   \\\n0      644.8      641.3                         Original  from  well  log    \n1      679.8      676.5                         Original  from  well  log    \n2    -9999.0      386.1   Environment  and  Sustainable  Development  DEM    \n3    -9999.0      382.0   Environment  and  Sustainable  Development  DEM    \n4    -9999.0      445.0   Environment  and  Sustainable  Development  DEM    \n\n   El_masl28                                          Data_src    MD_m   \\\n0      495.8                            Oil  &  gas  well  log    145.5   \n1      442.3                            Oil  &  gas  well  log    234.2   \n2      412.6   Outcrop;  interpreted  from  satellite  image...     0.0   \n3      387.9   Outcrop;  interpreted  from  satellite  image...     0.0   \n4      451.7   Outcrop;  interpreted  from  satellite  image...     0.0   \n\n                              Publisher   \n0     Alberta    Geological    Survey     \n1     Alberta    Geological    Survey     \n2     Alberta    Geological    Survey     \n3     Alberta    Geological    Survey     \n4     Alberta    Geological    Survey     ",
      "text/html": "<div>\n<style scoped>\n    .dataframe tbody tr th:only-of-type {\n        vertical-align: middle;\n    }\n\n    .dataframe tbody tr th {\n        vertical-align: top;\n    }\n\n    .dataframe thead th {\n        text-align: right;\n    }\n</style>\n<table border=\"1\" class=\"dataframe\">\n  <thead>\n    <tr style=\"text-align: right;\">\n      <th></th>\n      <th>Loc_ID</th>\n      <th>E_10TM83</th>\n      <th>N_10TM83</th>\n      <th>Geol_name</th>\n      <th>KB_masl28</th>\n      <th>Gd_el_m28</th>\n      <th>Gd_el_src</th>\n      <th>El_masl28</th>\n      <th>Data_src</th>\n      <th>MD_m</th>\n      <th>Publisher</th>\n    </tr>\n  </thead>\n  <tbody>\n    <tr>\n      <th>0</th>\n      <td>100160607211W400</td>\n      <td>711243.82</td>\n      <td>6120896.30</td>\n      <td>Bedrock  top</td>\n      <td>644.8</td>\n      <td>641.3</td>\n      <td>Original  from  well  log</td>\n      <td>495.8</td>\n      <td>Oil  &amp;  gas  well  log</td>\n      <td>145.5</td>\n      <td>Alberta    Geological    Survey</td>\n    </tr>\n    <tr>\n      <th>1</th>\n      <td>100160907713W400</td>\n      <td>691910.46</td>\n      <td>6170207.23</td>\n      <td>Bedrock  top</td>\n      <td>679.8</td>\n      <td>676.5</td>\n      <td>Original  from  well  log</td>\n      <td>442.3</td>\n      <td>Oil  &amp;  gas  well  log</td>\n      <td>234.2</td>\n      <td>Alberta    Geological    Survey</td>\n    </tr>\n    <tr>\n      <th>2</th>\n      <td>GJP_interpretative_points_471</td>\n      <td>659833.16</td>\n      <td>6269089.08</td>\n      <td>Bedrock  top</td>\n      <td>-9999.0</td>\n      <td>386.1</td>\n      <td>Environment  and  Sustainable  Development  DEM</td>\n      <td>412.6</td>\n      <td>Outcrop;  interpreted  from  satellite  image...</td>\n      <td>0.0</td>\n      <td>Alberta    Geological    Survey</td>\n    </tr>\n    <tr>\n      <th>3</th>\n      <td>GJP_interpretative_points_473</td>\n      <td>661498.18</td>\n      <td>6266773.91</td>\n      <td>Bedrock  top</td>\n      <td>-9999.0</td>\n      <td>382.0</td>\n      <td>Environment  and  Sustainable  Development  DEM</td>\n      <td>387.9</td>\n      <td>Outcrop;  interpreted  from  satellite  image...</td>\n      <td>0.0</td>\n      <td>Alberta    Geological    Survey</td>\n    </tr>\n    <tr>\n      <th>4</th>\n      <td>GJP_interpretative_points_474</td>\n      <td>660354.47</td>\n      <td>6266310.47</td>\n      <td>Bedrock  top</td>\n      <td>-9999.0</td>\n      <td>445.0</td>\n      <td>Environment  and  Sustainable  Development  DEM</td>\n      <td>451.7</td>\n      <td>Outcrop;  interpreted  from  satellite  image...</td>\n      <td>0.0</td>\n      <td>Alberta    Geological    Survey</td>\n    </tr>\n  </tbody>\n</table>\n</div>"
     },
     "metadata": {}
    }
   ]
  },
  {
   "cell_type": "code",
   "metadata": {
    "cell_id": "00003-939b7c26-51fc-484a-b713-5a554e43ce1b",
    "deepnote_to_be_reexecuted": false,
    "source_hash": "cbfd0d53",
    "execution_start": 1646017276198,
    "execution_millis": 499,
    "deepnote_cell_type": "code"
   },
   "source": "# statistics metrics\ndf.describe()",
   "execution_count": 3,
   "outputs": [
    {
     "output_type": "execute_result",
     "execution_count": 3,
     "data": {
      "application/vnd.deepnote.dataframe.v3+json": {
       "column_count": 6,
       "row_count": 8,
       "columns": [
        {
         "name": "E_10TM83",
         "dtype": "float64",
         "stats": {
          "unique_count": 8,
          "nan_count": 0,
          "min": "8847.0",
          "max": "817662.61",
          "histogram": [
           {
            "bin_start": 8847,
            "bin_end": 89728.561,
            "count": 2
           },
           {
            "bin_start": 89728.561,
            "bin_end": 170610.122,
            "count": 0
           },
           {
            "bin_start": 170610.122,
            "bin_end": 251491.68300000002,
            "count": 0
           },
           {
            "bin_start": 251491.68300000002,
            "bin_end": 332373.244,
            "count": 0
           },
           {
            "bin_start": 332373.244,
            "bin_end": 413254.805,
            "count": 0
           },
           {
            "bin_start": 413254.805,
            "bin_end": 494136.36600000004,
            "count": 0
           },
           {
            "bin_start": 494136.36600000004,
            "bin_end": 575017.927,
            "count": 0
           },
           {
            "bin_start": 575017.927,
            "bin_end": 655899.488,
            "count": 1
           },
           {
            "bin_start": 655899.488,
            "bin_end": 736781.049,
            "count": 2
           },
           {
            "bin_start": 736781.049,
            "bin_end": 817662.61,
            "count": 3
           }
          ]
         }
        },
        {
         "name": "N_10TM83",
         "dtype": "float64",
         "stats": {
          "unique_count": 8,
          "nan_count": 0,
          "min": "8847.0",
          "max": "6298776.64",
          "histogram": [
           {
            "bin_start": 8847,
            "bin_end": 637839.9639999999,
            "count": 2
           },
           {
            "bin_start": 637839.9639999999,
            "bin_end": 1266832.9279999998,
            "count": 0
           },
           {
            "bin_start": 1266832.9279999998,
            "bin_end": 1895825.8919999998,
            "count": 0
           },
           {
            "bin_start": 1895825.8919999998,
            "bin_end": 2524818.8559999997,
            "count": 0
           },
           {
            "bin_start": 2524818.8559999997,
            "bin_end": 3153811.8199999994,
            "count": 0
           },
           {
            "bin_start": 3153811.8199999994,
            "bin_end": 3782804.7839999995,
            "count": 0
           },
           {
            "bin_start": 3782804.7839999995,
            "bin_end": 4411797.748,
            "count": 0
           },
           {
            "bin_start": 4411797.748,
            "bin_end": 5040790.711999999,
            "count": 0
           },
           {
            "bin_start": 5040790.711999999,
            "bin_end": 5669783.675999999,
            "count": 0
           },
           {
            "bin_start": 5669783.675999999,
            "bin_end": 6298776.64,
            "count": 6
           }
          ]
         }
        },
        {
         "name": "KB_masl28",
         "dtype": "float64",
         "stats": {
          "unique_count": 8,
          "nan_count": 0,
          "min": "-9999.0",
          "max": "8847.0",
          "histogram": [
           {
            "bin_start": -9999,
            "bin_end": -8114.4,
            "count": 1
           },
           {
            "bin_start": -8114.4,
            "bin_end": -6229.8,
            "count": 0
           },
           {
            "bin_start": -6229.8,
            "bin_end": -4345.200000000001,
            "count": 0
           },
           {
            "bin_start": -4345.200000000001,
            "bin_end": -2460.6000000000004,
            "count": 0
           },
           {
            "bin_start": -2460.6000000000004,
            "bin_end": -576,
            "count": 0
           },
           {
            "bin_start": -576,
            "bin_end": 1308.5999999999985,
            "count": 5
           },
           {
            "bin_start": 1308.5999999999985,
            "bin_end": 3193.199999999999,
            "count": 1
           },
           {
            "bin_start": 3193.199999999999,
            "bin_end": 5077.799999999999,
            "count": 0
           },
           {
            "bin_start": 5077.799999999999,
            "bin_end": 6962.399999999998,
            "count": 0
           },
           {
            "bin_start": 6962.399999999998,
            "bin_end": 8847,
            "count": 1
           }
          ]
         }
        },
        {
         "name": "Gd_el_m28",
         "dtype": "float64",
         "stats": {
          "unique_count": 8,
          "nan_count": 0,
          "min": "100.34225186348222",
          "max": "8847.0",
          "histogram": [
           {
            "bin_start": 100.34225186348222,
            "bin_end": 975.0080266771341,
            "count": 7
           },
           {
            "bin_start": 975.0080266771341,
            "bin_end": 1849.673801490786,
            "count": 0
           },
           {
            "bin_start": 1849.673801490786,
            "bin_end": 2724.3395763044377,
            "count": 0
           },
           {
            "bin_start": 2724.3395763044377,
            "bin_end": 3599.0053511180895,
            "count": 0
           },
           {
            "bin_start": 3599.0053511180895,
            "bin_end": 4473.671125931742,
            "count": 0
           },
           {
            "bin_start": 4473.671125931742,
            "bin_end": 5348.336900745394,
            "count": 0
           },
           {
            "bin_start": 5348.336900745394,
            "bin_end": 6223.002675559045,
            "count": 0
           },
           {
            "bin_start": 6223.002675559045,
            "bin_end": 7097.668450372697,
            "count": 0
           },
           {
            "bin_start": 7097.668450372697,
            "bin_end": 7972.33422518635,
            "count": 0
           },
           {
            "bin_start": 7972.33422518635,
            "bin_end": 8847,
            "count": 1
           }
          ]
         }
        },
        {
         "name": "El_masl28",
         "dtype": "float64",
         "stats": {
          "unique_count": 8,
          "nan_count": 0,
          "min": "64.23228891958836",
          "max": "8847.0",
          "histogram": [
           {
            "bin_start": 64.23228891958836,
            "bin_end": 942.5090600276295,
            "count": 7
           },
           {
            "bin_start": 942.5090600276295,
            "bin_end": 1820.7858311356708,
            "count": 0
           },
           {
            "bin_start": 1820.7858311356708,
            "bin_end": 2699.062602243712,
            "count": 0
           },
           {
            "bin_start": 2699.062602243712,
            "bin_end": 3577.3393733517532,
            "count": 0
           },
           {
            "bin_start": 3577.3393733517532,
            "bin_end": 4455.616144459795,
            "count": 0
           },
           {
            "bin_start": 4455.616144459795,
            "bin_end": 5333.892915567835,
            "count": 0
           },
           {
            "bin_start": 5333.892915567835,
            "bin_end": 6212.169686675877,
            "count": 0
           },
           {
            "bin_start": 6212.169686675877,
            "bin_end": 7090.446457783918,
            "count": 0
           },
           {
            "bin_start": 7090.446457783918,
            "bin_end": 7968.7232288919595,
            "count": 0
           },
           {
            "bin_start": 7968.7232288919595,
            "bin_end": 8847,
            "count": 1
           }
          ]
         }
        },
        {
         "name": " MD_m ",
         "dtype": "float64",
         "stats": {
          "unique_count": 8,
          "nan_count": 0,
          "min": "0.0",
          "max": "8847.0",
          "histogram": [
           {
            "bin_start": 0,
            "bin_end": 884.7,
            "count": 7
           },
           {
            "bin_start": 884.7,
            "bin_end": 1769.4,
            "count": 0
           },
           {
            "bin_start": 1769.4,
            "bin_end": 2654.1000000000004,
            "count": 0
           },
           {
            "bin_start": 2654.1000000000004,
            "bin_end": 3538.8,
            "count": 0
           },
           {
            "bin_start": 3538.8,
            "bin_end": 4423.5,
            "count": 0
           },
           {
            "bin_start": 4423.5,
            "bin_end": 5308.200000000001,
            "count": 0
           },
           {
            "bin_start": 5308.200000000001,
            "bin_end": 6192.900000000001,
            "count": 0
           },
           {
            "bin_start": 6192.900000000001,
            "bin_end": 7077.6,
            "count": 0
           },
           {
            "bin_start": 7077.6,
            "bin_end": 7962.3,
            "count": 0
           },
           {
            "bin_start": 7962.3,
            "bin_end": 8847,
            "count": 1
           }
          ]
         }
        },
        {
         "name": "_deepnote_index_column",
         "dtype": "object"
        }
       ],
       "rows": [
        {
         "E_10TM83": 8847,
         "N_10TM83": 8847,
         "KB_masl28": 8847,
         "Gd_el_m28": 8847,
         "El_masl28": 8847,
         " MD_m ": 8847,
         "_deepnote_index_column": "count"
        },
        {
         "E_10TM83": 731844.1313891715,
         "N_10TM83": 6194465.116944727,
         "KB_masl28": -426.3788741946423,
         "Gd_el_m28": 604.3710297275912,
         "El_masl28": 471.7667683960665,
         " MD_m ": 135.88407369729853,
         "_deepnote_index_column": "mean"
        },
        {
         "E_10TM83": 35318.895856177514,
         "N_10TM83": 47530.219458347725,
         "KB_masl28": 3162.680977407356,
         "Gd_el_m28": 100.34225186348222,
         "El_masl28": 64.23228891958836,
         " MD_m ": 84.6303271863734,
         "_deepnote_index_column": "std"
        },
        {
         "E_10TM83": 630225.62,
         "N_10TM83": 6097703,
         "KB_masl28": -9999,
         "Gd_el_m28": 239.3,
         "El_masl28": 213.3,
         " MD_m ": 0,
         "_deepnote_index_column": "min"
        },
        {
         "E_10TM83": 709237.71,
         "N_10TM83": 6158494.545,
         "KB_masl28": 525.5,
         "Gd_el_m28": 556,
         "El_masl28": 431,
         " MD_m ": 60,
         "_deepnote_index_column": "25%"
        },
        {
         "E_10TM83": 739442.31,
         "N_10TM83": 6182733,
         "KB_masl28": 618,
         "Gd_el_m28": 626.3,
         "El_masl28": 470.2,
         " MD_m ": 144,
         "_deepnote_index_column": "50%"
        },
        {
         "E_10TM83": 755300.36,
         "N_10TM83": 6236218.725,
         "KB_masl28": 682,
         "Gd_el_m28": 679.7,
         "El_masl28": 512,
         " MD_m ": 200,
         "_deepnote_index_column": "75%"
        },
        {
         "E_10TM83": 817662.61,
         "N_10TM83": 6298776.64,
         "KB_masl28": 837,
         "Gd_el_m28": 843.7,
         "El_masl28": 733,
         " MD_m ": 360,
         "_deepnote_index_column": "max"
        }
       ]
      },
      "text/plain": "            E_10TM83      N_10TM83    KB_masl28    Gd_el_m28    El_masl28  \\\ncount    8847.000000  8.847000e+03  8847.000000  8847.000000  8847.000000   \nmean   731844.131389  6.194465e+06  -426.378874   604.371030   471.766768   \nstd     35318.895856  4.753022e+04  3162.680977   100.342252    64.232289   \nmin    630225.620000  6.097703e+06 -9999.000000   239.300000   213.300000   \n25%    709237.710000  6.158495e+06   525.500000   556.000000   431.000000   \n50%    739442.310000  6.182733e+06   618.000000   626.300000   470.200000   \n75%    755300.360000  6.236219e+06   682.000000   679.700000   512.000000   \nmax    817662.610000  6.298777e+06   837.000000   843.700000   733.000000   \n\n             MD_m   \ncount  8847.000000  \nmean    135.884074  \nstd      84.630327  \nmin       0.000000  \n25%      60.000000  \n50%     144.000000  \n75%     200.000000  \nmax     360.000000  ",
      "text/html": "<div>\n<style scoped>\n    .dataframe tbody tr th:only-of-type {\n        vertical-align: middle;\n    }\n\n    .dataframe tbody tr th {\n        vertical-align: top;\n    }\n\n    .dataframe thead th {\n        text-align: right;\n    }\n</style>\n<table border=\"1\" class=\"dataframe\">\n  <thead>\n    <tr style=\"text-align: right;\">\n      <th></th>\n      <th>E_10TM83</th>\n      <th>N_10TM83</th>\n      <th>KB_masl28</th>\n      <th>Gd_el_m28</th>\n      <th>El_masl28</th>\n      <th>MD_m</th>\n    </tr>\n  </thead>\n  <tbody>\n    <tr>\n      <th>count</th>\n      <td>8847.000000</td>\n      <td>8.847000e+03</td>\n      <td>8847.000000</td>\n      <td>8847.000000</td>\n      <td>8847.000000</td>\n      <td>8847.000000</td>\n    </tr>\n    <tr>\n      <th>mean</th>\n      <td>731844.131389</td>\n      <td>6.194465e+06</td>\n      <td>-426.378874</td>\n      <td>604.371030</td>\n      <td>471.766768</td>\n      <td>135.884074</td>\n    </tr>\n    <tr>\n      <th>std</th>\n      <td>35318.895856</td>\n      <td>4.753022e+04</td>\n      <td>3162.680977</td>\n      <td>100.342252</td>\n      <td>64.232289</td>\n      <td>84.630327</td>\n    </tr>\n    <tr>\n      <th>min</th>\n      <td>630225.620000</td>\n      <td>6.097703e+06</td>\n      <td>-9999.000000</td>\n      <td>239.300000</td>\n      <td>213.300000</td>\n      <td>0.000000</td>\n    </tr>\n    <tr>\n      <th>25%</th>\n      <td>709237.710000</td>\n      <td>6.158495e+06</td>\n      <td>525.500000</td>\n      <td>556.000000</td>\n      <td>431.000000</td>\n      <td>60.000000</td>\n    </tr>\n    <tr>\n      <th>50%</th>\n      <td>739442.310000</td>\n      <td>6.182733e+06</td>\n      <td>618.000000</td>\n      <td>626.300000</td>\n      <td>470.200000</td>\n      <td>144.000000</td>\n    </tr>\n    <tr>\n      <th>75%</th>\n      <td>755300.360000</td>\n      <td>6.236219e+06</td>\n      <td>682.000000</td>\n      <td>679.700000</td>\n      <td>512.000000</td>\n      <td>200.000000</td>\n    </tr>\n    <tr>\n      <th>max</th>\n      <td>817662.610000</td>\n      <td>6.298777e+06</td>\n      <td>837.000000</td>\n      <td>843.700000</td>\n      <td>733.000000</td>\n      <td>360.000000</td>\n    </tr>\n  </tbody>\n</table>\n</div>"
     },
     "metadata": {}
    }
   ]
  },
  {
   "cell_type": "code",
   "metadata": {
    "cell_id": "00004-e1837b60-9d16-4609-8f24-eb06721772b8",
    "deepnote_to_be_reexecuted": false,
    "source_hash": "5df3309e",
    "execution_start": 1646017276304,
    "execution_millis": 394,
    "deepnote_cell_type": "code"
   },
   "source": "# show all columns\ndf.columns",
   "execution_count": 4,
   "outputs": [
    {
     "output_type": "execute_result",
     "execution_count": 4,
     "data": {
      "text/plain": "Index([' Loc_ID ', 'E_10TM83', 'N_10TM83', ' Geol_name ', 'KB_masl28',\n       'Gd_el_m28', ' Gd_el_src ', 'El_masl28', ' Data_src ', ' MD_m ',\n       ' Publisher '],\n      dtype='object')"
     },
     "metadata": {}
    }
   ]
  },
  {
   "cell_type": "code",
   "metadata": {
    "cell_id": "00005-933b35e3-0d1e-4a20-b8e0-e9c43526c2ae",
    "deepnote_to_be_reexecuted": false,
    "source_hash": "3960c1e8",
    "execution_start": 1646017276363,
    "execution_millis": 354,
    "deepnote_cell_type": "code"
   },
   "source": "# review the data of the column ' Loc_ID '\ndf[' Loc_ID ']",
   "execution_count": 5,
   "outputs": [
    {
     "output_type": "execute_result",
     "execution_count": 5,
     "data": {
      "text/plain": "0                    100160607211W400\n1                    100160907713W400\n2       GJP_interpretative_points_471\n3       GJP_interpretative_points_473\n4       GJP_interpretative_points_474\n                    ...              \n8842               250k_contour_49427\n8843               250k_contour_58801\n8844               250k_contour_58554\n8845               250k_contour_40753\n8846               250k_contour_49420\nName:  Loc_ID , Length: 8847, dtype: object"
     },
     "metadata": {}
    }
   ]
  },
  {
   "cell_type": "code",
   "metadata": {
    "cell_id": "00006-fee23cef-7467-4bd3-9919-659afec3b98a",
    "deepnote_to_be_reexecuted": false,
    "source_hash": "302ae3a0",
    "execution_start": 1646017276364,
    "execution_millis": 354,
    "deepnote_cell_type": "code"
   },
   "source": "# rename columns\ndf.rename(columns={' Loc_ID ':'Loc_ID','E_10TM83': 'Easting','N_10TM83': 'Northing','El_masl28':'Elevation',' Geol_name ':'Geol_name'  }, inplace=True)\ndf",
   "execution_count": 6,
   "outputs": [
    {
     "output_type": "execute_result",
     "execution_count": 6,
     "data": {
      "application/vnd.deepnote.dataframe.v3+json": {
       "column_count": 11,
       "row_count": 8847,
       "columns": [
        {
         "name": "Loc_ID",
         "dtype": "object",
         "stats": {
          "unique_count": 8845,
          "nan_count": 0,
          "categories": [
           {
            "name": "100112707214W400",
            "count": 2
           },
           {
            "name": "100161107914W400",
            "count": 2
           },
           {
            "name": "8843 others",
            "count": 8843
           }
          ]
         }
        },
        {
         "name": "Easting",
         "dtype": "float64",
         "stats": {
          "unique_count": 8826,
          "nan_count": 0,
          "min": "630225.62",
          "max": "817662.61",
          "histogram": [
           {
            "bin_start": 630225.62,
            "bin_end": 648969.319,
            "count": 296
           },
           {
            "bin_start": 648969.319,
            "bin_end": 667713.018,
            "count": 289
           },
           {
            "bin_start": 667713.018,
            "bin_end": 686456.717,
            "count": 428
           },
           {
            "bin_start": 686456.717,
            "bin_end": 705200.416,
            "count": 926
           },
           {
            "bin_start": 705200.416,
            "bin_end": 723944.115,
            "count": 1278
           },
           {
            "bin_start": 723944.115,
            "bin_end": 742687.814,
            "count": 1449
           },
           {
            "bin_start": 742687.814,
            "bin_end": 761431.513,
            "count": 2560
           },
           {
            "bin_start": 761431.513,
            "bin_end": 780175.212,
            "count": 1169
           },
           {
            "bin_start": 780175.212,
            "bin_end": 798918.911,
            "count": 386
           },
           {
            "bin_start": 798918.911,
            "bin_end": 817662.61,
            "count": 66
           }
          ]
         }
        },
        {
         "name": "Northing",
         "dtype": "float64",
         "stats": {
          "unique_count": 8843,
          "nan_count": 0,
          "min": "6097703.0",
          "max": "6298776.64",
          "histogram": [
           {
            "bin_start": 6097703,
            "bin_end": 6117810.364,
            "count": 315
           },
           {
            "bin_start": 6117810.364,
            "bin_end": 6137917.728,
            "count": 624
           },
           {
            "bin_start": 6137917.728,
            "bin_end": 6158025.092,
            "count": 1228
           },
           {
            "bin_start": 6158025.092,
            "bin_end": 6178132.456,
            "count": 2041
           },
           {
            "bin_start": 6178132.456,
            "bin_end": 6198239.82,
            "count": 829
           },
           {
            "bin_start": 6198239.82,
            "bin_end": 6218347.183999999,
            "count": 708
           },
           {
            "bin_start": 6218347.183999999,
            "bin_end": 6238454.5479999995,
            "count": 1003
           },
           {
            "bin_start": 6238454.5479999995,
            "bin_end": 6258561.912,
            "count": 1184
           },
           {
            "bin_start": 6258561.912,
            "bin_end": 6278669.276,
            "count": 472
           },
           {
            "bin_start": 6278669.276,
            "bin_end": 6298776.64,
            "count": 443
           }
          ]
         }
        },
        {
         "name": "Geol_name",
         "dtype": "object",
         "stats": {
          "unique_count": 6,
          "nan_count": 0,
          "categories": [
           {
            "name": " Bedrock  top ",
            "count": 8818
           },
           {
            "name": " Fish  Scales  Formation  base ",
            "count": 12
           },
           {
            "name": "4 others",
            "count": 17
           }
          ]
         }
        },
        {
         "name": "KB_masl28",
         "dtype": "float64",
         "stats": {
          "unique_count": 998,
          "nan_count": 0,
          "min": "-9999.0",
          "max": "837.0",
          "histogram": [
           {
            "bin_start": -9999,
            "bin_end": -8915.4,
            "count": 870
           },
           {
            "bin_start": -8915.4,
            "bin_end": -7831.8,
            "count": 0
           },
           {
            "bin_start": -7831.8,
            "bin_end": -6748.200000000001,
            "count": 0
           },
           {
            "bin_start": -6748.200000000001,
            "bin_end": -5664.6,
            "count": 0
           },
           {
            "bin_start": -5664.6,
            "bin_end": -4581,
            "count": 0
           },
           {
            "bin_start": -4581,
            "bin_end": -3497.4000000000005,
            "count": 0
           },
           {
            "bin_start": -3497.4000000000005,
            "bin_end": -2413.800000000001,
            "count": 0
           },
           {
            "bin_start": -2413.800000000001,
            "bin_end": -1330.2000000000007,
            "count": 0
           },
           {
            "bin_start": -1330.2000000000007,
            "bin_end": -246.60000000000036,
            "count": 0
           },
           {
            "bin_start": -246.60000000000036,
            "bin_end": 837,
            "count": 7977
           }
          ]
         }
        },
        {
         "name": "Gd_el_m28",
         "dtype": "float64",
         "stats": {
          "unique_count": 2995,
          "nan_count": 0,
          "min": "239.3",
          "max": "843.7",
          "histogram": [
           {
            "bin_start": 239.3,
            "bin_end": 299.74,
            "count": 146
           },
           {
            "bin_start": 299.74,
            "bin_end": 360.18000000000006,
            "count": 58
           },
           {
            "bin_start": 360.18000000000006,
            "bin_end": 420.62000000000006,
            "count": 217
           },
           {
            "bin_start": 420.62000000000006,
            "bin_end": 481.06000000000006,
            "count": 787
           },
           {
            "bin_start": 481.06000000000006,
            "bin_end": 541.5,
            "count": 745
           },
           {
            "bin_start": 541.5,
            "bin_end": 601.94,
            "count": 1852
           },
           {
            "bin_start": 601.94,
            "bin_end": 662.3800000000001,
            "count": 1706
           },
           {
            "bin_start": 662.3800000000001,
            "bin_end": 722.8200000000002,
            "count": 2738
           },
           {
            "bin_start": 722.8200000000002,
            "bin_end": 783.2600000000002,
            "count": 595
           },
           {
            "bin_start": 783.2600000000002,
            "bin_end": 843.7,
            "count": 3
           }
          ]
         }
        },
        {
         "name": " Gd_el_src ",
         "dtype": "object",
         "stats": {
          "unique_count": 7,
          "nan_count": 0,
          "categories": [
           {
            "name": " Geological  Framework  DEM ",
            "count": 8192
           },
           {
            "name": " Environment  and  Sustainable  Development  DEM ",
            "count": 292
           },
           {
            "name": "5 others",
            "count": 363
           }
          ]
         }
        },
        {
         "name": "Elevation",
         "dtype": "float64",
         "stats": {
          "unique_count": 1112,
          "nan_count": 0,
          "min": "213.3",
          "max": "733.0",
          "histogram": [
           {
            "bin_start": 213.3,
            "bin_end": 265.27000000000004,
            "count": 84
           },
           {
            "bin_start": 265.27000000000004,
            "bin_end": 317.24,
            "count": 77
           },
           {
            "bin_start": 317.24,
            "bin_end": 369.21000000000004,
            "count": 247
           },
           {
            "bin_start": 369.21000000000004,
            "bin_end": 421.18000000000006,
            "count": 1253
           },
           {
            "bin_start": 421.18000000000006,
            "bin_end": 473.15000000000003,
            "count": 3012
           },
           {
            "bin_start": 473.15000000000003,
            "bin_end": 525.1200000000001,
            "count": 2397
           },
           {
            "bin_start": 525.1200000000001,
            "bin_end": 577.09,
            "count": 1284
           },
           {
            "bin_start": 577.09,
            "bin_end": 629.0600000000001,
            "count": 453
           },
           {
            "bin_start": 629.0600000000001,
            "bin_end": 681.0300000000001,
            "count": 32
           },
           {
            "bin_start": 681.0300000000001,
            "bin_end": 733,
            "count": 8
           }
          ]
         }
        },
        {
         "name": " Data_src ",
         "dtype": "object",
         "stats": {
          "unique_count": 14,
          "nan_count": 0,
          "categories": [
           {
            "name": " Oil  &  gas  well  log ",
            "count": 7970
           },
           {
            "name": "Control  point  (interpreted  from  Devon  2006)",
            "count": 222
           },
           {
            "name": "12 others",
            "count": 655
           }
          ]
         }
        },
        {
         "name": " MD_m ",
         "dtype": "float64",
         "stats": {
          "unique_count": 1146,
          "nan_count": 0,
          "min": "0.0",
          "max": "360.0",
          "histogram": [
           {
            "bin_start": 0,
            "bin_end": 36,
            "count": 1706
           },
           {
            "bin_start": 36,
            "bin_end": 72,
            "count": 734
           },
           {
            "bin_start": 72,
            "bin_end": 108,
            "count": 762
           },
           {
            "bin_start": 108,
            "bin_end": 144,
            "count": 1203
           },
           {
            "bin_start": 144,
            "bin_end": 180,
            "count": 1365
           },
           {
            "bin_start": 180,
            "bin_end": 216,
            "count": 1358
           },
           {
            "bin_start": 216,
            "bin_end": 252,
            "count": 980
           },
           {
            "bin_start": 252,
            "bin_end": 288,
            "count": 522
           },
           {
            "bin_start": 288,
            "bin_end": 324,
            "count": 176
           },
           {
            "bin_start": 324,
            "bin_end": 360,
            "count": 41
           }
          ]
         }
        },
        {
         "name": " Publisher ",
         "dtype": "object",
         "stats": {
          "unique_count": 1,
          "nan_count": 0,
          "categories": [
           {
            "name": "   Alberta    Geological    Survey   ",
            "count": 8847
           }
          ]
         }
        },
        {
         "name": "_deepnote_index_column",
         "dtype": "int64"
        }
       ],
       "rows": [
        {
         "Loc_ID": "100160607211W400",
         "Easting": 711243.82,
         "Northing": 6120896.3,
         "Geol_name": " Bedrock  top ",
         "KB_masl28": 644.8,
         "Gd_el_m28": 641.3,
         " Gd_el_src ": " Original  from  well  log ",
         "Elevation": 495.8,
         " Data_src ": " Oil  &  gas  well  log ",
         " MD_m ": 145.5,
         " Publisher ": "   Alberta    Geological    Survey   ",
         "_deepnote_index_column": 0
        },
        {
         "Loc_ID": "100160907713W400",
         "Easting": 691910.46,
         "Northing": 6170207.23,
         "Geol_name": " Bedrock  top ",
         "KB_masl28": 679.8,
         "Gd_el_m28": 676.5,
         " Gd_el_src ": " Original  from  well  log ",
         "Elevation": 442.3,
         " Data_src ": " Oil  &  gas  well  log ",
         " MD_m ": 234.2,
         " Publisher ": "   Alberta    Geological    Survey   ",
         "_deepnote_index_column": 1
        },
        {
         "Loc_ID": "GJP_interpretative_points_471",
         "Easting": 659833.16,
         "Northing": 6269089.08,
         "Geol_name": " Bedrock  top ",
         "KB_masl28": -9999,
         "Gd_el_m28": 386.1,
         " Gd_el_src ": " Environment  and  Sustainable  Development  DEM ",
         "Elevation": 412.6,
         " Data_src ": " Outcrop;  interpreted  from  satellite  imagery;  internal  AGS  data ",
         " MD_m ": 0,
         " Publisher ": "   Alberta    Geological    Survey   ",
         "_deepnote_index_column": 2
        },
        {
         "Loc_ID": "GJP_interpretative_points_473",
         "Easting": 661498.18,
         "Northing": 6266773.91,
         "Geol_name": " Bedrock  top ",
         "KB_masl28": -9999,
         "Gd_el_m28": 382,
         " Gd_el_src ": " Environment  and  Sustainable  Development  DEM ",
         "Elevation": 387.9,
         " Data_src ": " Outcrop;  interpreted  from  satellite  imagery;  internal  AGS  data ",
         " MD_m ": 0,
         " Publisher ": "   Alberta    Geological    Survey   ",
         "_deepnote_index_column": 3
        },
        {
         "Loc_ID": "GJP_interpretative_points_474",
         "Easting": 660354.47,
         "Northing": 6266310.47,
         "Geol_name": " Bedrock  top ",
         "KB_masl28": -9999,
         "Gd_el_m28": 445,
         " Gd_el_src ": " Environment  and  Sustainable  Development  DEM ",
         "Elevation": 451.7,
         " Data_src ": " Outcrop;  interpreted  from  satellite  imagery;  internal  AGS  data ",
         " MD_m ": 0,
         " Publisher ": "   Alberta    Geological    Survey   ",
         "_deepnote_index_column": 4
        },
        {
         "Loc_ID": "GJP_interpretative_points_475",
         "Easting": 659594.74,
         "Northing": 6266450.62,
         "Geol_name": " Bedrock  top ",
         "KB_masl28": -9999,
         "Gd_el_m28": 411.7,
         " Gd_el_src ": " Environment  and  Sustainable  Development  DEM ",
         "Elevation": 400.3,
         " Data_src ": " Outcrop;  interpreted  from  satellite  imagery;  internal  AGS  data ",
         " MD_m ": 0,
         " Publisher ": "   Alberta    Geological    Survey   ",
         "_deepnote_index_column": 5
        },
        {
         "Loc_ID": "GJP_interpretative_points_476",
         "Easting": 660748.07,
         "Northing": 6270223.63,
         "Geol_name": " Bedrock  top ",
         "KB_masl28": -9999,
         "Gd_el_m28": 386.5,
         " Gd_el_src ": " Environment  and  Sustainable  Development  DEM ",
         "Elevation": 413.8,
         " Data_src ": " Outcrop;  interpreted  from  satellite  imagery;  internal  AGS  data ",
         " MD_m ": 0,
         " Publisher ": "   Alberta    Geological    Survey   ",
         "_deepnote_index_column": 6
        },
        {
         "Loc_ID": "GJP_interpretative_points_478",
         "Easting": 663191.78,
         "Northing": 6269270.54,
         "Geol_name": " Bedrock  top ",
         "KB_masl28": -9999,
         "Gd_el_m28": 415,
         " Gd_el_src ": " Environment  and  Sustainable  Development  DEM ",
         "Elevation": 413.8,
         " Data_src ": " Outcrop;  interpreted  from  satellite  imagery;  internal  AGS  data ",
         " MD_m ": 0,
         " Publisher ": "   Alberta    Geological    Survey   ",
         "_deepnote_index_column": 7
        },
        {
         "Loc_ID": "GJP_interpretative_points_483",
         "Easting": 664390.55,
         "Northing": 6269918.64,
         "Geol_name": " Bedrock  top ",
         "KB_masl28": -9999,
         "Gd_el_m28": 404.7,
         " Gd_el_src ": " Environment  and  Sustainable  Development  DEM ",
         "Elevation": 409.2,
         " Data_src ": " Outcrop;  interpreted  from  satellite  imagery;  internal  AGS  data ",
         " MD_m ": 0,
         " Publisher ": "   Alberta    Geological    Survey   ",
         "_deepnote_index_column": 8
        },
        {
         "Loc_ID": "GJP_interpretative_points_484",
         "Easting": 664569.66,
         "Northing": 6270310.84,
         "Geol_name": " Bedrock  top ",
         "KB_masl28": -9999,
         "Gd_el_m28": 410.7,
         " Gd_el_src ": " Environment  and  Sustainable  Development  DEM ",
         "Elevation": 417.4,
         " Data_src ": " Outcrop;  interpreted  from  satellite  imagery;  internal  AGS  data ",
         " MD_m ": 0,
         " Publisher ": "   Alberta    Geological    Survey   ",
         "_deepnote_index_column": 9
        }
       ]
      },
      "text/plain": "                             Loc_ID    Easting    Northing       Geol_name  \\\n0                  100160607211W400  711243.82  6120896.30   Bedrock  top    \n1                  100160907713W400  691910.46  6170207.23   Bedrock  top    \n2     GJP_interpretative_points_471  659833.16  6269089.08   Bedrock  top    \n3     GJP_interpretative_points_473  661498.18  6266773.91   Bedrock  top    \n4     GJP_interpretative_points_474  660354.47  6266310.47   Bedrock  top    \n...                             ...        ...         ...             ...   \n8842             250k_contour_49427  717677.79  6127510.25   Bedrock  top    \n8843             250k_contour_58801  784729.65  6250759.81   Bedrock  top    \n8844             250k_contour_58554  795191.40  6242083.93   Bedrock  top    \n8845             250k_contour_40753  675421.90  6205269.88   Bedrock  top    \n8846             250k_contour_49420  719087.29  6116247.55   Bedrock  top    \n\n      KB_masl28  Gd_el_m28                                         Gd_el_src   \\\n0         644.8      641.3                         Original  from  well  log    \n1         679.8      676.5                         Original  from  well  log    \n2       -9999.0      386.1   Environment  and  Sustainable  Development  DEM    \n3       -9999.0      382.0   Environment  and  Sustainable  Development  DEM    \n4       -9999.0      445.0   Environment  and  Sustainable  Development  DEM    \n...         ...        ...                                                ...   \n8842    -9999.0      653.3                        Geological  Framework  DEM    \n8843    -9999.0      457.7                        Geological  Framework  DEM    \n8844    -9999.0      488.5                        Geological  Framework  DEM    \n8845    -9999.0      590.0                        Geological  Framework  DEM    \n8846    -9999.0      641.9                        Geological  Framework  DEM    \n\n      Elevation                                          Data_src    MD_m   \\\n0         495.8                            Oil  &  gas  well  log    145.5   \n1         442.3                            Oil  &  gas  well  log    234.2   \n2         412.6   Outcrop;  interpreted  from  satellite  image...     0.0   \n3         387.9   Outcrop;  interpreted  from  satellite  image...     0.0   \n4         451.7   Outcrop;  interpreted  from  satellite  image...     0.0   \n...         ...                                                ...     ...   \n8842      570.0                     Control  point  (interpreted)     83.3   \n8843      450.0                     Control  point  (interpreted)      7.7   \n8844      460.0                     Control  point  (interpreted)     28.5   \n8845      550.0                     Control  point  (interpreted)     40.0   \n8846      570.0                     Control  point  (interpreted)     71.9   \n\n                                 Publisher   \n0        Alberta    Geological    Survey     \n1        Alberta    Geological    Survey     \n2        Alberta    Geological    Survey     \n3        Alberta    Geological    Survey     \n4        Alberta    Geological    Survey     \n...                                     ...  \n8842     Alberta    Geological    Survey     \n8843     Alberta    Geological    Survey     \n8844     Alberta    Geological    Survey     \n8845     Alberta    Geological    Survey     \n8846     Alberta    Geological    Survey     \n\n[8847 rows x 11 columns]",
      "text/html": "<div>\n<style scoped>\n    .dataframe tbody tr th:only-of-type {\n        vertical-align: middle;\n    }\n\n    .dataframe tbody tr th {\n        vertical-align: top;\n    }\n\n    .dataframe thead th {\n        text-align: right;\n    }\n</style>\n<table border=\"1\" class=\"dataframe\">\n  <thead>\n    <tr style=\"text-align: right;\">\n      <th></th>\n      <th>Loc_ID</th>\n      <th>Easting</th>\n      <th>Northing</th>\n      <th>Geol_name</th>\n      <th>KB_masl28</th>\n      <th>Gd_el_m28</th>\n      <th>Gd_el_src</th>\n      <th>Elevation</th>\n      <th>Data_src</th>\n      <th>MD_m</th>\n      <th>Publisher</th>\n    </tr>\n  </thead>\n  <tbody>\n    <tr>\n      <th>0</th>\n      <td>100160607211W400</td>\n      <td>711243.82</td>\n      <td>6120896.30</td>\n      <td>Bedrock  top</td>\n      <td>644.8</td>\n      <td>641.3</td>\n      <td>Original  from  well  log</td>\n      <td>495.8</td>\n      <td>Oil  &amp;  gas  well  log</td>\n      <td>145.5</td>\n      <td>Alberta    Geological    Survey</td>\n    </tr>\n    <tr>\n      <th>1</th>\n      <td>100160907713W400</td>\n      <td>691910.46</td>\n      <td>6170207.23</td>\n      <td>Bedrock  top</td>\n      <td>679.8</td>\n      <td>676.5</td>\n      <td>Original  from  well  log</td>\n      <td>442.3</td>\n      <td>Oil  &amp;  gas  well  log</td>\n      <td>234.2</td>\n      <td>Alberta    Geological    Survey</td>\n    </tr>\n    <tr>\n      <th>2</th>\n      <td>GJP_interpretative_points_471</td>\n      <td>659833.16</td>\n      <td>6269089.08</td>\n      <td>Bedrock  top</td>\n      <td>-9999.0</td>\n      <td>386.1</td>\n      <td>Environment  and  Sustainable  Development  DEM</td>\n      <td>412.6</td>\n      <td>Outcrop;  interpreted  from  satellite  image...</td>\n      <td>0.0</td>\n      <td>Alberta    Geological    Survey</td>\n    </tr>\n    <tr>\n      <th>3</th>\n      <td>GJP_interpretative_points_473</td>\n      <td>661498.18</td>\n      <td>6266773.91</td>\n      <td>Bedrock  top</td>\n      <td>-9999.0</td>\n      <td>382.0</td>\n      <td>Environment  and  Sustainable  Development  DEM</td>\n      <td>387.9</td>\n      <td>Outcrop;  interpreted  from  satellite  image...</td>\n      <td>0.0</td>\n      <td>Alberta    Geological    Survey</td>\n    </tr>\n    <tr>\n      <th>4</th>\n      <td>GJP_interpretative_points_474</td>\n      <td>660354.47</td>\n      <td>6266310.47</td>\n      <td>Bedrock  top</td>\n      <td>-9999.0</td>\n      <td>445.0</td>\n      <td>Environment  and  Sustainable  Development  DEM</td>\n      <td>451.7</td>\n      <td>Outcrop;  interpreted  from  satellite  image...</td>\n      <td>0.0</td>\n      <td>Alberta    Geological    Survey</td>\n    </tr>\n    <tr>\n      <th>...</th>\n      <td>...</td>\n      <td>...</td>\n      <td>...</td>\n      <td>...</td>\n      <td>...</td>\n      <td>...</td>\n      <td>...</td>\n      <td>...</td>\n      <td>...</td>\n      <td>...</td>\n      <td>...</td>\n    </tr>\n    <tr>\n      <th>8842</th>\n      <td>250k_contour_49427</td>\n      <td>717677.79</td>\n      <td>6127510.25</td>\n      <td>Bedrock  top</td>\n      <td>-9999.0</td>\n      <td>653.3</td>\n      <td>Geological  Framework  DEM</td>\n      <td>570.0</td>\n      <td>Control  point  (interpreted)</td>\n      <td>83.3</td>\n      <td>Alberta    Geological    Survey</td>\n    </tr>\n    <tr>\n      <th>8843</th>\n      <td>250k_contour_58801</td>\n      <td>784729.65</td>\n      <td>6250759.81</td>\n      <td>Bedrock  top</td>\n      <td>-9999.0</td>\n      <td>457.7</td>\n      <td>Geological  Framework  DEM</td>\n      <td>450.0</td>\n      <td>Control  point  (interpreted)</td>\n      <td>7.7</td>\n      <td>Alberta    Geological    Survey</td>\n    </tr>\n    <tr>\n      <th>8844</th>\n      <td>250k_contour_58554</td>\n      <td>795191.40</td>\n      <td>6242083.93</td>\n      <td>Bedrock  top</td>\n      <td>-9999.0</td>\n      <td>488.5</td>\n      <td>Geological  Framework  DEM</td>\n      <td>460.0</td>\n      <td>Control  point  (interpreted)</td>\n      <td>28.5</td>\n      <td>Alberta    Geological    Survey</td>\n    </tr>\n    <tr>\n      <th>8845</th>\n      <td>250k_contour_40753</td>\n      <td>675421.90</td>\n      <td>6205269.88</td>\n      <td>Bedrock  top</td>\n      <td>-9999.0</td>\n      <td>590.0</td>\n      <td>Geological  Framework  DEM</td>\n      <td>550.0</td>\n      <td>Control  point  (interpreted)</td>\n      <td>40.0</td>\n      <td>Alberta    Geological    Survey</td>\n    </tr>\n    <tr>\n      <th>8846</th>\n      <td>250k_contour_49420</td>\n      <td>719087.29</td>\n      <td>6116247.55</td>\n      <td>Bedrock  top</td>\n      <td>-9999.0</td>\n      <td>641.9</td>\n      <td>Geological  Framework  DEM</td>\n      <td>570.0</td>\n      <td>Control  point  (interpreted)</td>\n      <td>71.9</td>\n      <td>Alberta    Geological    Survey</td>\n    </tr>\n  </tbody>\n</table>\n<p>8847 rows × 11 columns</p>\n</div>"
     },
     "metadata": {}
    }
   ]
  },
  {
   "cell_type": "code",
   "metadata": {
    "cell_id": "00007-22205226-6dce-4b5e-8a47-70d0b9f91d67",
    "deepnote_to_be_reexecuted": false,
    "source_hash": "371068d7",
    "execution_start": 1646017276523,
    "execution_millis": 196,
    "deepnote_cell_type": "code"
   },
   "source": "# see how many unique elements are in the column: 'Geol_name'\ndf['Geol_name'].unique()",
   "execution_count": 7,
   "outputs": [
    {
     "output_type": "execute_result",
     "execution_count": 7,
     "data": {
      "text/plain": "array([' Bedrock  top ', ' First  White  Specks  Member  top ',\n       ' Fish  Scales  Formation  base ', ' Pelican  Formation  top ',\n       ' Viking  or  Pelican  Formation  top ',\n       ' Joli  Fou  Formation  or  Harmon  Member  top '], dtype=object)"
     },
     "metadata": {}
    }
   ]
  },
  {
   "cell_type": "code",
   "metadata": {
    "cell_id": "bca87297-bc40-40a7-8eec-23b5e279d1d4",
    "tags": [],
    "deepnote_to_be_reexecuted": false,
    "source_hash": "4e0ca2b5",
    "execution_start": 1646017276592,
    "execution_millis": 127,
    "deepnote_cell_type": "code"
   },
   "source": "# Create a new dataframe filtered with the value ' Bedrock  top ' from column 'Geol_name' \nbedrock = df.loc[df['Geol_name'] == ' Bedrock  top '][['Easting','Northing','Elevation']]\nbedrock",
   "execution_count": 8,
   "outputs": [
    {
     "output_type": "execute_result",
     "execution_count": 8,
     "data": {
      "application/vnd.deepnote.dataframe.v3+json": {
       "column_count": 3,
       "row_count": 8818,
       "columns": [
        {
         "name": "Easting",
         "dtype": "float64",
         "stats": {
          "unique_count": 8797,
          "nan_count": 0,
          "min": "630225.62",
          "max": "817662.61",
          "histogram": [
           {
            "bin_start": 630225.62,
            "bin_end": 648969.319,
            "count": 287
           },
           {
            "bin_start": 648969.319,
            "bin_end": 667713.018,
            "count": 286
           },
           {
            "bin_start": 667713.018,
            "bin_end": 686456.717,
            "count": 428
           },
           {
            "bin_start": 686456.717,
            "bin_end": 705200.416,
            "count": 919
           },
           {
            "bin_start": 705200.416,
            "bin_end": 723944.115,
            "count": 1270
           },
           {
            "bin_start": 723944.115,
            "bin_end": 742687.814,
            "count": 1449
           },
           {
            "bin_start": 742687.814,
            "bin_end": 761431.513,
            "count": 2558
           },
           {
            "bin_start": 761431.513,
            "bin_end": 780175.212,
            "count": 1169
           },
           {
            "bin_start": 780175.212,
            "bin_end": 798918.911,
            "count": 386
           },
           {
            "bin_start": 798918.911,
            "bin_end": 817662.61,
            "count": 66
           }
          ]
         }
        },
        {
         "name": "Northing",
         "dtype": "float64",
         "stats": {
          "unique_count": 8814,
          "nan_count": 0,
          "min": "6097703.0",
          "max": "6298776.64",
          "histogram": [
           {
            "bin_start": 6097703,
            "bin_end": 6117810.364,
            "count": 315
           },
           {
            "bin_start": 6117810.364,
            "bin_end": 6137917.728,
            "count": 622
           },
           {
            "bin_start": 6137917.728,
            "bin_end": 6158025.092,
            "count": 1227
           },
           {
            "bin_start": 6158025.092,
            "bin_end": 6178132.456,
            "count": 2038
           },
           {
            "bin_start": 6178132.456,
            "bin_end": 6198239.82,
            "count": 829
           },
           {
            "bin_start": 6198239.82,
            "bin_end": 6218347.183999999,
            "count": 708
           },
           {
            "bin_start": 6218347.183999999,
            "bin_end": 6238454.5479999995,
            "count": 994
           },
           {
            "bin_start": 6238454.5479999995,
            "bin_end": 6258561.912,
            "count": 1170
           },
           {
            "bin_start": 6258561.912,
            "bin_end": 6278669.276,
            "count": 472
           },
           {
            "bin_start": 6278669.276,
            "bin_end": 6298776.64,
            "count": 443
           }
          ]
         }
        },
        {
         "name": "Elevation",
         "dtype": "float64",
         "stats": {
          "unique_count": 1094,
          "nan_count": 0,
          "min": "213.3",
          "max": "733.0",
          "histogram": [
           {
            "bin_start": 213.3,
            "bin_end": 265.27000000000004,
            "count": 84
           },
           {
            "bin_start": 265.27000000000004,
            "bin_end": 317.24,
            "count": 77
           },
           {
            "bin_start": 317.24,
            "bin_end": 369.21000000000004,
            "count": 247
           },
           {
            "bin_start": 369.21000000000004,
            "bin_end": 421.18000000000006,
            "count": 1252
           },
           {
            "bin_start": 421.18000000000006,
            "bin_end": 473.15000000000003,
            "count": 3010
           },
           {
            "bin_start": 473.15000000000003,
            "bin_end": 525.1200000000001,
            "count": 2374
           },
           {
            "bin_start": 525.1200000000001,
            "bin_end": 577.09,
            "count": 1281
           },
           {
            "bin_start": 577.09,
            "bin_end": 629.0600000000001,
            "count": 453
           },
           {
            "bin_start": 629.0600000000001,
            "bin_end": 681.0300000000001,
            "count": 32
           },
           {
            "bin_start": 681.0300000000001,
            "bin_end": 733,
            "count": 8
           }
          ]
         }
        },
        {
         "name": "_deepnote_index_column",
         "dtype": "int64"
        }
       ],
       "rows": [
        {
         "Easting": 711243.82,
         "Northing": 6120896.3,
         "Elevation": 495.8,
         "_deepnote_index_column": 0
        },
        {
         "Easting": 691910.46,
         "Northing": 6170207.23,
         "Elevation": 442.3,
         "_deepnote_index_column": 1
        },
        {
         "Easting": 659833.16,
         "Northing": 6269089.08,
         "Elevation": 412.6,
         "_deepnote_index_column": 2
        },
        {
         "Easting": 661498.18,
         "Northing": 6266773.91,
         "Elevation": 387.9,
         "_deepnote_index_column": 3
        },
        {
         "Easting": 660354.47,
         "Northing": 6266310.47,
         "Elevation": 451.7,
         "_deepnote_index_column": 4
        },
        {
         "Easting": 659594.74,
         "Northing": 6266450.62,
         "Elevation": 400.3,
         "_deepnote_index_column": 5
        },
        {
         "Easting": 660748.07,
         "Northing": 6270223.63,
         "Elevation": 413.8,
         "_deepnote_index_column": 6
        },
        {
         "Easting": 663191.78,
         "Northing": 6269270.54,
         "Elevation": 413.8,
         "_deepnote_index_column": 7
        },
        {
         "Easting": 664390.55,
         "Northing": 6269918.64,
         "Elevation": 409.2,
         "_deepnote_index_column": 8
        },
        {
         "Easting": 664569.66,
         "Northing": 6270310.84,
         "Elevation": 417.4,
         "_deepnote_index_column": 9
        }
       ]
      },
      "text/plain": "        Easting    Northing  Elevation\n0     711243.82  6120896.30      495.8\n1     691910.46  6170207.23      442.3\n2     659833.16  6269089.08      412.6\n3     661498.18  6266773.91      387.9\n4     660354.47  6266310.47      451.7\n...         ...         ...        ...\n8842  717677.79  6127510.25      570.0\n8843  784729.65  6250759.81      450.0\n8844  795191.40  6242083.93      460.0\n8845  675421.90  6205269.88      550.0\n8846  719087.29  6116247.55      570.0\n\n[8818 rows x 3 columns]",
      "text/html": "<div>\n<style scoped>\n    .dataframe tbody tr th:only-of-type {\n        vertical-align: middle;\n    }\n\n    .dataframe tbody tr th {\n        vertical-align: top;\n    }\n\n    .dataframe thead th {\n        text-align: right;\n    }\n</style>\n<table border=\"1\" class=\"dataframe\">\n  <thead>\n    <tr style=\"text-align: right;\">\n      <th></th>\n      <th>Easting</th>\n      <th>Northing</th>\n      <th>Elevation</th>\n    </tr>\n  </thead>\n  <tbody>\n    <tr>\n      <th>0</th>\n      <td>711243.82</td>\n      <td>6120896.30</td>\n      <td>495.8</td>\n    </tr>\n    <tr>\n      <th>1</th>\n      <td>691910.46</td>\n      <td>6170207.23</td>\n      <td>442.3</td>\n    </tr>\n    <tr>\n      <th>2</th>\n      <td>659833.16</td>\n      <td>6269089.08</td>\n      <td>412.6</td>\n    </tr>\n    <tr>\n      <th>3</th>\n      <td>661498.18</td>\n      <td>6266773.91</td>\n      <td>387.9</td>\n    </tr>\n    <tr>\n      <th>4</th>\n      <td>660354.47</td>\n      <td>6266310.47</td>\n      <td>451.7</td>\n    </tr>\n    <tr>\n      <th>...</th>\n      <td>...</td>\n      <td>...</td>\n      <td>...</td>\n    </tr>\n    <tr>\n      <th>8842</th>\n      <td>717677.79</td>\n      <td>6127510.25</td>\n      <td>570.0</td>\n    </tr>\n    <tr>\n      <th>8843</th>\n      <td>784729.65</td>\n      <td>6250759.81</td>\n      <td>450.0</td>\n    </tr>\n    <tr>\n      <th>8844</th>\n      <td>795191.40</td>\n      <td>6242083.93</td>\n      <td>460.0</td>\n    </tr>\n    <tr>\n      <th>8845</th>\n      <td>675421.90</td>\n      <td>6205269.88</td>\n      <td>550.0</td>\n    </tr>\n    <tr>\n      <th>8846</th>\n      <td>719087.29</td>\n      <td>6116247.55</td>\n      <td>570.0</td>\n    </tr>\n  </tbody>\n</table>\n<p>8818 rows × 3 columns</p>\n</div>"
     },
     "metadata": {}
    }
   ]
  },
  {
   "cell_type": "markdown",
   "source": "## Create a basic contour graph",
   "metadata": {
    "cell_id": "b1065b66-60eb-47ec-9acc-33e2dbd1d2ad",
    "tags": [],
    "deepnote_cell_type": "markdown"
   }
  },
  {
   "cell_type": "code",
   "metadata": {
    "cell_id": "9870bfcb-1bc3-4f2f-827c-1eae164005ed",
    "tags": [],
    "deepnote_to_be_reexecuted": false,
    "source_hash": "2279e0c2",
    "execution_start": 1646017276610,
    "execution_millis": 2,
    "deepnote_cell_type": "code"
   },
   "source": "# create a surface from scratch\nnumx, numy = (20,20)\nxx =np.linspace(-1,1,numx)\nyy = np.linspace(-1,1,numy)",
   "execution_count": 9,
   "outputs": []
  },
  {
   "cell_type": "markdown",
   "source": "### numpy meshgrid function\nThe numpy.meshgrid function is used to create a rectangular grid out of two given one-dimensional arrays representing the Cartesian indexing or Matrix indexing. Meshgrid function is somewhat inspired from MATLAB.",
   "metadata": {
    "cell_id": "533513ac-bbea-415e-8fe8-649fa565714a",
    "tags": [],
    "deepnote_cell_type": "markdown"
   }
  },
  {
   "cell_type": "code",
   "metadata": {
    "cell_id": "e2be0eee-dd5c-4d01-adc8-b79e52279b44",
    "tags": [],
    "deepnote_to_be_reexecuted": false,
    "source_hash": "860714e9",
    "execution_start": 1646017276621,
    "execution_millis": 1,
    "deepnote_cell_type": "code"
   },
   "source": "# plot the surface\nxv,yv = np.meshgrid(xx,yy)\nxv.shape",
   "execution_count": 10,
   "outputs": [
    {
     "output_type": "execute_result",
     "execution_count": 10,
     "data": {
      "text/plain": "(20, 20)"
     },
     "metadata": {}
    }
   ]
  },
  {
   "cell_type": "code",
   "metadata": {
    "cell_id": "e3c1a52f-0d51-4163-80bb-518b7fd15994",
    "tags": [],
    "deepnote_to_be_reexecuted": false,
    "source_hash": "d1b56769",
    "execution_start": 1646018060132,
    "execution_millis": 1,
    "deepnote_cell_type": "code"
   },
   "source": "# create z value (z, attribute)\nzv = xv ** 2 + yv ** 2",
   "execution_count": 14,
   "outputs": []
  },
  {
   "cell_type": "code",
   "metadata": {
    "cell_id": "e2cd7cb6-27f0-4e6b-b063-4599bdf11896",
    "tags": [],
    "deepnote_to_be_reexecuted": false,
    "source_hash": "d40c3a9c",
    "execution_start": 1646018608962,
    "execution_millis": 514,
    "deepnote_cell_type": "code"
   },
   "source": "# create a figure\nfig1 = plt.figure(figsize=(8,8))\nplt.contour(xv,yv,zv, levels=5, colors='black')\n# contour filled\nplt.contourf(xv,yv,zv, levels=6)\nplt.show()",
   "execution_count": 24,
   "outputs": [
    {
     "data": {
      "text/plain": "<Figure size 576x576 with 1 Axes>",
      "image/png": "[encoded data removed]"
     },
     "metadata": {
      "needs_background": "light",
      "image/png": {
       "width": 509,
       "height": 470
      }
     },
     "output_type": "display_data"
    }
   ]
  },
  {
   "cell_type": "code",
   "source": "# use a library\nimport matplotlib.cm as cm",
   "metadata": {
    "cell_id": "013db3c8-3d41-431f-ad38-52a477173cd5",
    "tags": [],
    "deepnote_to_be_reexecuted": false,
    "source_hash": "2f84eae8",
    "execution_start": 1646018899428,
    "execution_millis": 1,
    "deepnote_cell_type": "code"
   },
   "outputs": [],
   "execution_count": 26
  },
  {
   "cell_type": "code",
   "source": "# create a figure\nfig1 = plt.figure(figsize=(10,8))\nplt.contour(xv,yv,zv, levels=5, colors='black')\n# contour filled\nim = plt.contourf(xv,yv,zv, levels=6, cmap = cm.gist_rainbow_r)\n#provide limits\nplt.xlim(-1,1)\nplt.ylim(-1,1)\nplt.xlabel(\"X values\")\nplt.ylabel(\"Y values\")\nplt.colorbar(im)\n# set an horizontal colobar\nplt.colorbar(im, orientation='horizontal')\nplt.show()",
   "metadata": {
    "cell_id": "d9b34d37-a0c9-4e6c-b3d0-d999d0904171",
    "tags": [],
    "deepnote_to_be_reexecuted": false,
    "source_hash": "8a7c82e3",
    "execution_start": 1646019428611,
    "execution_millis": 503,
    "deepnote_cell_type": "code"
   },
   "outputs": [
    {
     "data": {
      "text/plain": "<Figure size 720x576 with 3 Axes>",
      "image/png": "[encoded data removed]"
     },
     "metadata": {
      "needs_background": "light",
      "image/png": {
       "width": 585,
       "height": 459
      }
     },
     "output_type": "display_data"
    }
   ],
   "execution_count": 32
  },
  {
   "cell_type": "markdown",
   "source": "## Create a 3D figure",
   "metadata": {
    "cell_id": "9a3c63b2-988d-4ff6-9ad1-000270334d4f",
    "tags": [],
    "deepnote_cell_type": "markdown"
   }
  },
  {
   "cell_type": "markdown",
   "source": "### Anticline Model",
   "metadata": {
    "cell_id": "c9b40a09-eeb0-407a-a037-fd472f3de99d",
    "tags": [],
    "deepnote_cell_type": "markdown"
   }
  },
  {
   "cell_type": "code",
   "source": "fig2 = plt.figure()\nax = plt.axes(projection='3d')\n# plot a surface in 3D\nax.plot_surface(xv,yv,zv)\nplt.title('Anticline Model')\nplt.show()",
   "metadata": {
    "cell_id": "d0fe0748-aa2d-4e5f-bdfe-960bfffe623a",
    "tags": [],
    "deepnote_to_be_reexecuted": false,
    "source_hash": "e7c719da",
    "execution_start": 1646020016254,
    "execution_millis": 297,
    "deepnote_cell_type": "code"
   },
   "outputs": [
    {
     "data": {
      "text/plain": "<Figure size 432x288 with 1 Axes>",
      "image/png": "[encoded data removed]"
     },
     "metadata": {
      "needs_background": "light",
      "image/png": {
       "width": 248,
       "height": 258
      }
     },
     "output_type": "display_data"
    }
   ],
   "execution_count": 36
  },
  {
   "cell_type": "markdown",
   "source": "### Sincline Model",
   "metadata": {
    "cell_id": "c58638d1-376a-4078-bc2a-ec5a946681ea",
    "tags": [],
    "deepnote_cell_type": "markdown"
   }
  },
  {
   "cell_type": "code",
   "source": "fig3 = plt.figure()\nax = plt.axes(projection='3d')\n# plot a surface in 3D\nax.plot_surface(xv,yv,-zv)\nplt.title('Sincline Model')\n#select the view angle\nax.view_init(45,30)# (angles)\nplt.show()",
   "metadata": {
    "cell_id": "1b214115-a3c7-429c-83ee-484222913320",
    "tags": [],
    "deepnote_to_be_reexecuted": false,
    "source_hash": "d26c94a3",
    "execution_start": 1646020271594,
    "execution_millis": 232,
    "deepnote_cell_type": "code"
   },
   "outputs": [
    {
     "data": {
      "text/plain": "<Figure size 432x288 with 1 Axes>",
      "image/png": "[encoded data removed]"
     },
     "metadata": {
      "needs_background": "light",
      "image/png": {
       "width": 256,
       "height": 266
      }
     },
     "output_type": "display_data"
    }
   ],
   "execution_count": 45
  },
  {
   "cell_type": "markdown",
   "source": "## Create contour map in 3D",
   "metadata": {
    "cell_id": "b527346e-1a45-43df-a137-8d91157e83a7",
    "tags": [],
    "deepnote_cell_type": "markdown"
   }
  },
  {
   "cell_type": "code",
   "source": "fig4 = plt.figure()\nax = plt.axes(projection='3d')\n# plot a surface in 3D\n##ax.plot_surface(xv,yv,-zv)\n##ax.contour3D(xv,yv,-zv)\nax.contour3D(xv,yv,-zv, levels=10, cmap='binary')\nplt.title('Sincline Model - Binary view')\n#select the view angle\nax.view_init(30,30)# (angles)\nplt.show()",
   "metadata": {
    "cell_id": "08b59761-a9d9-4e06-8dd9-a32fef3c574b",
    "tags": [],
    "deepnote_to_be_reexecuted": false,
    "source_hash": "b948638b",
    "execution_start": 1646020638232,
    "execution_millis": 302,
    "deepnote_cell_type": "code"
   },
   "outputs": [
    {
     "data": {
      "text/plain": "<Figure size 432x288 with 1 Axes>",
      "image/png": "[encoded data removed]"
     },
     "metadata": {
      "needs_background": "light",
      "image/png": {
       "width": 257,
       "height": 258
      }
     },
     "output_type": "display_data"
    }
   ],
   "execution_count": 50
  },
  {
   "cell_type": "code",
   "source": "# modify size\nfig5 = plt.figure(figsize=(8,8))\nax = plt.axes(projection='3d')\n# plot a surface in 3D\n##ax.plot_surface(xv,yv,-zv)\n##ax.contour3D(xv,yv,-zv)\nax.contour3D(xv,yv,-zv, levels=20, cmap='binary')\nplt.title('Sincline Model - Binary view')\n#select the view angle\nax.view_init(30,30)# (angles)\nplt.show()",
   "metadata": {
    "cell_id": "ce765d3e-6e5e-42dd-8662-c4caeeac158a",
    "tags": [],
    "deepnote_to_be_reexecuted": false,
    "source_hash": "7c907726",
    "execution_start": 1646020767534,
    "execution_millis": 493,
    "deepnote_cell_type": "code"
   },
   "outputs": [
    {
     "data": {
      "text/plain": "<Figure size 576x576 with 1 Axes>",
      "image/png": "[encoded data removed]"
     },
     "metadata": {
      "needs_background": "light",
      "image/png": {
       "width": 459,
       "height": 465
      }
     },
     "output_type": "display_data"
    }
   ],
   "execution_count": 53
  },
  {
   "cell_type": "markdown",
   "source": "## Create a contour map with the dataframe values",
   "metadata": {
    "cell_id": "5878352a-4f04-4b6f-8c9a-0e10fc8f24f3",
    "tags": [],
    "deepnote_cell_type": "markdown"
   }
  },
  {
   "cell_type": "code",
   "source": "# Apply quality\nbedrock.loc[bedrock['Elevation'] == -9999.0]\n# this means that in bedrock surface does not exist mising values",
   "metadata": {
    "cell_id": "b0593c19-521d-4add-85c4-cbd8c13a9860",
    "tags": [],
    "deepnote_to_be_reexecuted": false,
    "source_hash": "c97ff14e",
    "execution_start": 1646021103302,
    "execution_millis": 11,
    "deepnote_cell_type": "code"
   },
   "outputs": [
    {
     "output_type": "execute_result",
     "execution_count": 56,
     "data": {
      "application/vnd.deepnote.dataframe.v3+json": {
       "column_count": 3,
       "row_count": 0,
       "columns": [
        {
         "name": "Easting",
         "dtype": "float64",
         "stats": {
          "unique_count": 0,
          "nan_count": 0,
          "min": null,
          "max": null,
          "histogram": [
           {
            "bin_start": 0,
            "bin_end": 0.1,
            "count": 0
           },
           {
            "bin_start": 0.1,
            "bin_end": 0.2,
            "count": 0
           },
           {
            "bin_start": 0.2,
            "bin_end": 0.30000000000000004,
            "count": 0
           },
           {
            "bin_start": 0.30000000000000004,
            "bin_end": 0.4,
            "count": 0
           },
           {
            "bin_start": 0.4,
            "bin_end": 0.5,
            "count": 0
           },
           {
            "bin_start": 0.5,
            "bin_end": 0.6000000000000001,
            "count": 0
           },
           {
            "bin_start": 0.6000000000000001,
            "bin_end": 0.7000000000000001,
            "count": 0
           },
           {
            "bin_start": 0.7000000000000001,
            "bin_end": 0.8,
            "count": 0
           },
           {
            "bin_start": 0.8,
            "bin_end": 0.9,
            "count": 0
           },
           {
            "bin_start": 0.9,
            "bin_end": 1,
            "count": 0
           }
          ]
         }
        },
        {
         "name": "Northing",
         "dtype": "float64",
         "stats": {
          "unique_count": 0,
          "nan_count": 0,
          "min": null,
          "max": null,
          "histogram": [
           {
            "bin_start": 0,
            "bin_end": 0.1,
            "count": 0
           },
           {
            "bin_start": 0.1,
            "bin_end": 0.2,
            "count": 0
           },
           {
            "bin_start": 0.2,
            "bin_end": 0.30000000000000004,
            "count": 0
           },
           {
            "bin_start": 0.30000000000000004,
            "bin_end": 0.4,
            "count": 0
           },
           {
            "bin_start": 0.4,
            "bin_end": 0.5,
            "count": 0
           },
           {
            "bin_start": 0.5,
            "bin_end": 0.6000000000000001,
            "count": 0
           },
           {
            "bin_start": 0.6000000000000001,
            "bin_end": 0.7000000000000001,
            "count": 0
           },
           {
            "bin_start": 0.7000000000000001,
            "bin_end": 0.8,
            "count": 0
           },
           {
            "bin_start": 0.8,
            "bin_end": 0.9,
            "count": 0
           },
           {
            "bin_start": 0.9,
            "bin_end": 1,
            "count": 0
           }
          ]
         }
        },
        {
         "name": "Elevation",
         "dtype": "float64",
         "stats": {
          "unique_count": 0,
          "nan_count": 0,
          "min": null,
          "max": null,
          "histogram": [
           {
            "bin_start": 0,
            "bin_end": 0.1,
            "count": 0
           },
           {
            "bin_start": 0.1,
            "bin_end": 0.2,
            "count": 0
           },
           {
            "bin_start": 0.2,
            "bin_end": 0.30000000000000004,
            "count": 0
           },
           {
            "bin_start": 0.30000000000000004,
            "bin_end": 0.4,
            "count": 0
           },
           {
            "bin_start": 0.4,
            "bin_end": 0.5,
            "count": 0
           },
           {
            "bin_start": 0.5,
            "bin_end": 0.6000000000000001,
            "count": 0
           },
           {
            "bin_start": 0.6000000000000001,
            "bin_end": 0.7000000000000001,
            "count": 0
           },
           {
            "bin_start": 0.7000000000000001,
            "bin_end": 0.8,
            "count": 0
           },
           {
            "bin_start": 0.8,
            "bin_end": 0.9,
            "count": 0
           },
           {
            "bin_start": 0.9,
            "bin_end": 1,
            "count": 0
           }
          ]
         }
        },
        {
         "name": "_deepnote_index_column",
         "dtype": "int64"
        }
       ],
       "rows": []
      },
      "text/plain": "Empty DataFrame\nColumns: [Easting, Northing, Elevation]\nIndex: []",
      "text/html": "<div>\n<style scoped>\n    .dataframe tbody tr th:only-of-type {\n        vertical-align: middle;\n    }\n\n    .dataframe tbody tr th {\n        vertical-align: top;\n    }\n\n    .dataframe thead th {\n        text-align: right;\n    }\n</style>\n<table border=\"1\" class=\"dataframe\">\n  <thead>\n    <tr style=\"text-align: right;\">\n      <th></th>\n      <th>Easting</th>\n      <th>Northing</th>\n      <th>Elevation</th>\n    </tr>\n  </thead>\n  <tbody>\n  </tbody>\n</table>\n</div>"
     },
     "metadata": {}
    }
   ],
   "execution_count": 56
  },
  {
   "cell_type": "markdown",
   "source": "<a style='text-decoration:none;line-height:16px;display:flex;color:#5B5B62;padding:10px;justify-content:end;' href='https://deepnote.com?utm_source=created-in-deepnote-cell&projectId=22e90012-8c1c-4fa6-bf22-3fab8d76a457' target=\"_blank\">\n<img alt='Created in deepnote.com' style='display:inline;max-height:16px;margin:0px;margin-right:7.5px;' src='data:image/svg+xml;base64,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' > </img>\nCreated in <span style='font-weight:600;margin-left:4px;'>Deepnote</span></a>",
   "metadata": {
    "tags": [],
    "created_in_deepnote_cell": true,
    "deepnote_cell_type": "markdown"
   }
  }
 ],
 "nbformat": 4,
 "nbformat_minor": 5,
 "metadata": {
  "kernelspec": {
   "display_name": "Python 3 (ipykernel)",
   "language": "python",
   "name": "python3"
  },
  "language_info": {
   "codemirror_mode": {
    "name": "ipython",
    "version": 3
   },
   "file_extension": ".py",
   "mimetype": "text/x-python",
   "name": "python",
   "nbconvert_exporter": "python",
   "pygments_lexer": "ipython3",
   "version": "3.10.0"
  },
  "deepnote_notebook_id": "3756ca48-6a9f-4f7d-b5d1-4ac70b87a10d",
  "deepnote": {},
  "deepnote_execution_queue": []
 }
}